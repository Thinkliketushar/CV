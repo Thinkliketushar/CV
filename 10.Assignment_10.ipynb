{
 "cells": [
  {
   "cell_type": "markdown",
   "id": "99b071bc",
   "metadata": {},
   "source": [
    "# Assignment 10 Solutions"
   ]
  },
  {
   "cell_type": "markdown",
   "id": "faed445a",
   "metadata": {},
   "source": [
    "## 1. Why don&#39;t we start all of the weights with zeros?"
   ]
  },
  {
   "cell_type": "markdown",
   "id": "e9fe6f7d",
   "metadata": {},
   "source": [
    "Initializing all the weights with zeros leads the neurons to learn the same features during training. In fact, any constant initialization scheme will perform very poorly."
   ]
  },
  {
   "cell_type": "markdown",
   "id": "3bf78230",
   "metadata": {},
   "source": [
    "## 2. Why is it beneficial to start weights with a mean zero distribution?"
   ]
  },
  {
   "cell_type": "markdown",
   "id": "40eaa07c",
   "metadata": {},
   "source": [
    "Zero initialization causes the neuron to memorize the same functions almost in each iteration."
   ]
  },
  {
   "cell_type": "markdown",
   "id": "d44c6f5a",
   "metadata": {},
   "source": [
    "## 3. What is dilated convolution, and how does it work?"
   ]
  },
  {
   "cell_type": "markdown",
   "id": "5c0e9b86",
   "metadata": {},
   "source": [
    "Dilated Convolution: It is a technique that expands the kernel (input) by inserting holes between its consecutive elements."
   ]
  },
  {
   "cell_type": "markdown",
   "id": "7a1add26",
   "metadata": {},
   "source": [
    "## 4. What is TRANSPOSED CONVOLUTION, and how does it work?"
   ]
  },
  {
   "cell_type": "markdown",
   "id": "dbc4ea54",
   "metadata": {},
   "source": [
    "Transposed convolutions are standard convolutions but with a modified input feature map. The stride and padding do not correspond to the number of zeros added around the image and the amount of shift in the kernel when sliding it across the input, as they would in a standard convolution operation."
   ]
  },
  {
   "cell_type": "markdown",
   "id": "abdcaf57",
   "metadata": {},
   "source": [
    "## 5.Explain Separable convolution"
   ]
  },
  {
   "cell_type": "markdown",
   "id": "17872111",
   "metadata": {},
   "source": [
    "A Separable Convolution is a process in which a single convolution can be divided into two or more convolutions to produce the same output."
   ]
  },
  {
   "cell_type": "markdown",
   "id": "d6d6347a",
   "metadata": {},
   "source": [
    "## 6.What is depthwise convolution, and how does it work?"
   ]
  },
  {
   "cell_type": "markdown",
   "id": "2371c97d",
   "metadata": {},
   "source": [
    "Depthwise Convolution is a| type of convolution where we apply a single convolutional filter for each input channel."
   ]
  },
  {
   "cell_type": "markdown",
   "id": "a6562cde",
   "metadata": {},
   "source": [
    "## 7.What is Depthwise separable convolution, and how does it work?"
   ]
  },
  {
   "cell_type": "markdown",
   "id": "944e5038",
   "metadata": {},
   "source": [
    "In depth-wise operation, convolution is applied to a single channel at a time unlike standard CNN's in which it is done for all the M channels."
   ]
  },
  {
   "cell_type": "markdown",
   "id": "ee08cc87",
   "metadata": {},
   "source": [
    "## 8.Capsule networks are what they sound like."
   ]
  },
  {
   "cell_type": "markdown",
   "id": "62ab1fa4",
   "metadata": {},
   "source": [
    "Capsule networks achieve comparable results on MNIST, while requiring less training data. They are robust against small affine transformations. Also they are good for detecting overlapping objects. This is promising for image segmentation. its mimic like human eyes."
   ]
  },
  {
   "cell_type": "markdown",
   "id": "0b7f0ef5",
   "metadata": {},
   "source": [
    "## 9. Why is POOLING such an important operation in CNNs?"
   ]
  },
  {
   "cell_type": "markdown",
   "id": "03273c75",
   "metadata": {},
   "source": [
    "The main purpose of pooling is to reduce the size of feature maps, which in turn makes computation faster because the number of training parameters is reduced."
   ]
  },
  {
   "cell_type": "markdown",
   "id": "0e02059c",
   "metadata": {},
   "source": [
    "## 10. What are receptive fields and how do they work?"
   ]
  },
  {
   "cell_type": "markdown",
   "id": "9298726a",
   "metadata": {},
   "source": [
    "The receptive field is defined as the size of the region in the input that produces the feature.\n",
    " \n",
    "The receptive field encompasses the sensory receptors that feed into sensory neurons and thus includes specific receptors on a neuron as well as collectives of receptors that are capable of activating a neuron via synaptic connections."
   ]
  },
  {
   "cell_type": "code",
   "execution_count": null,
   "id": "5cae039c",
   "metadata": {},
   "outputs": [],
   "source": []
  }
 ],
 "metadata": {
  "kernelspec": {
   "display_name": "Python 3 (ipykernel)",
   "language": "python",
   "name": "python3"
  },
  "language_info": {
   "codemirror_mode": {
    "name": "ipython",
    "version": 3
   },
   "file_extension": ".py",
   "mimetype": "text/x-python",
   "name": "python",
   "nbconvert_exporter": "python",
   "pygments_lexer": "ipython3",
   "version": "3.9.13"
  }
 },
 "nbformat": 4,
 "nbformat_minor": 5
}
