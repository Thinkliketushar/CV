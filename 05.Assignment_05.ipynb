{
 "cells": [
  {
   "cell_type": "markdown",
   "id": "99b071bc",
   "metadata": {},
   "source": [
    "# Assignment 05 Solutions"
   ]
  },
  {
   "cell_type": "markdown",
   "id": "faed445a",
   "metadata": {},
   "source": [
    "#### 1. How can each of these parameters be fine-tuned? • Number of hidden layers \n",
    "1. Network architecture (network depth)\n",
    "2. Each layer's number of neurons (layer width)\n",
    "3. Form of activation\n",
    "4. Optimization and learning\n",
    "5. Learning rate and decay schedule\n",
    "6. Mini batch size\n",
    "7. Algorithms for optimization\n",
    "8. The number of epochs (and early stopping criteria)\n",
    "9. Overfitting that be avoided by using regularization techniques.\n",
    "10. L2 normalization\n",
    "11. Drop out layers\n",
    "12. Data augmentation"
   ]
  },
  {
   "cell_type": "markdown",
   "id": "389bcd2a",
   "metadata": {},
   "source": [
    "I follow documentation, Blogs, videos and copypaste. some example are given below. these parameter are tune by keras.tuner."
   ]
  },
  {
   "cell_type": "code",
   "execution_count": null,
   "id": "b7828898",
   "metadata": {},
   "outputs": [],
   "source": [
    "def build_model(hp):  \n",
    "  model = keras.Sequential([\n",
    "    keras.layers.Conv2D(\n",
    "        filters=hp.Int('conv_1_filter', min_value=32, max_value=128, step=16),\n",
    "        kernel_size=hp.Choice('conv_1_kernel', values = [3,5]),\n",
    "        activation='relu',\n",
    "        input_shape=(28,28,1)\n",
    "    ),\n",
    "    keras.layers.Conv2D(\n",
    "        filters=hp.Int('conv_2_filter', min_value=32, max_value=64, step=16),\n",
    "        kernel_size=hp.Choice('conv_2_kernel', values = [3,5]),\n",
    "        activation='relu'\n",
    "    ),\n",
    "    keras.layers.Flatten(),\n",
    "    keras.layers.Dense(\n",
    "        units=hp.Int('dense_1_units', min_value=32, max_value=128, step=16),\n",
    "        activation='relu'\n",
    "    ),\n",
    "    keras.layers.Dense(10, activation='softmax')\n",
    "  ])\n",
    "  \n",
    "  model.compile(optimizer=keras.optimizers.Adam(hp.Choice('learning_rate', values=[1e-2, 1e-3])),\n",
    "              loss='sparse_categorical_crossentropy',\n",
    "              metrics=['accuracy'])\n",
    "  \n",
    "  return model"
   ]
  }
 ],
 "metadata": {
  "kernelspec": {
   "display_name": "Python 3 (ipykernel)",
   "language": "python",
   "name": "python3"
  },
  "language_info": {
   "codemirror_mode": {
    "name": "ipython",
    "version": 3
   },
   "file_extension": ".py",
   "mimetype": "text/x-python",
   "name": "python",
   "nbconvert_exporter": "python",
   "pygments_lexer": "ipython3",
   "version": "3.9.13"
  }
 },
 "nbformat": 4,
 "nbformat_minor": 5
}
