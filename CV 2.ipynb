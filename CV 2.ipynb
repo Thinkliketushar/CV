{
 "cells": [
  {
   "cell_type": "markdown",
   "id": "3bc96456",
   "metadata": {},
   "source": [
    "# 1. Explain convolutional neural network, and how does it work?\n",
    "Convolution is used in grid like structure, time series and images. Cnn inspration by human brin part visual cortex. We use cnn in images instead of ann because of low comutational cost, reduce overfitting and focus of important features.\n",
    "- First of all in image matrix  multiply by diffrent kind of filter or detector and tehe output is feature map.\n",
    "- we use padding and stride for importance of feature then we use pooling layer.\n",
    "- at the end we use flatting and connected to fully connected layer to neural network same as ann."
   ]
  },
  {
   "cell_type": "markdown",
   "id": "e2332e0d",
   "metadata": {},
   "source": [
    "# 2. How does refactoring parts of your neural network definition favor you?\n",
    "\n",
    "Using training of neural network is finding the best parameter and its become refactoring."
   ]
  },
  {
   "cell_type": "markdown",
   "id": "1fc4faae",
   "metadata": {},
   "source": [
    "# 3. What does it mean to flatten? Is it necessary to include it in the MNIST CNN? What is the reason for this?\n",
    "using flatten we convert a matrix to fully connected layer and its necessary for training. without this we cannot training a image dataset for a perpose. "
   ]
  },
  {
   "cell_type": "markdown",
   "id": "644afc7d",
   "metadata": {},
   "source": [
    "# 4. What exactly does NCHW stand for?\n",
    "NCHW stands for: batch N, channels C, depth D, height H, width W. It is a way to store multidimensional arrays / data frames / matrix into memory, which can be considered as a 1-D array."
   ]
  },
  {
   "cell_type": "markdown",
   "id": "aebf6c36",
   "metadata": {},
   "source": [
    "# 5. Why are there 7*7*(1168-16) multiplications in the MNIST CNN's third layer?\n",
    "We can try diffrent, I think it's come from experimental."
   ]
  },
  {
   "cell_type": "markdown",
   "id": "8e68a8ee",
   "metadata": {},
   "source": [
    "# 6.Explain definition of receptive field?\n",
    "the region in the input space that a particular CNN's feature is affected by"
   ]
  },
  {
   "cell_type": "markdown",
   "id": "b918ac96",
   "metadata": {},
   "source": [
    "# 7. What is the scale of an activation's receptive field after two stride-2 convolutions? What is the reason for this?\n",
    "if the stride is less then we try to focus of minor edges and is strides is high then focus on major edges. The scale of an activation receptive field after two strides -2 convoluion depend of filter size."
   ]
  },
  {
   "cell_type": "markdown",
   "id": "9e4518ce",
   "metadata": {},
   "source": [
    "# 8. What is the tensor representation of a color image?\n",
    "Tensors can be understood as nested lists of objects of the previous order all with the same size. For example, an order three tensor can be thought of as a list of matrices all of which have the same number of rows and columns. These matrices are tensors of order two and since they have all the same number of rows and columns, the tensor of order three is actually like a cuboid of numbers and we can find numbers by going along any of the three-axis. Each number is identified by the row, the column, and the depth at which it’s stored. We can formalize this idea in the concept of shape."
   ]
  },
  {
   "cell_type": "markdown",
   "id": "831ad94c",
   "metadata": {},
   "source": [
    "# 9. How does a color input interact with a convolution ?\n",
    "We need to convert the RGB images into black and white images."
   ]
  },
  {
   "cell_type": "code",
   "execution_count": null,
   "id": "2b6235bc",
   "metadata": {},
   "outputs": [],
   "source": []
  }
 ],
 "metadata": {
  "kernelspec": {
   "display_name": "Python 3 (ipykernel)",
   "language": "python",
   "name": "python3"
  },
  "language_info": {
   "codemirror_mode": {
    "name": "ipython",
    "version": 3
   },
   "file_extension": ".py",
   "mimetype": "text/x-python",
   "name": "python",
   "nbconvert_exporter": "python",
   "pygments_lexer": "ipython3",
   "version": "3.9.12"
  }
 },
 "nbformat": 4,
 "nbformat_minor": 5
}
