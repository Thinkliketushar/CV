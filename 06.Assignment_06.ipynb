{
 "cells": [
  {
   "cell_type": "markdown",
   "id": "99b071bc",
   "metadata": {},
   "source": [
    "# Assignment 06 Solutions"
   ]
  },
  {
   "cell_type": "markdown",
   "id": "faed445a",
   "metadata": {},
   "source": [
    "#### 1. What is the difference between TRAINABLE and NON-TRAINABLE PARAMETERS ?"
   ]
  },
  {
   "cell_type": "markdown",
   "id": "fd7d9492",
   "metadata": {},
   "source": [
    "By default, all weights in a keras model are trainable. When you make them untrainable. Non trainable parameters are those which value is not optimized during the training as per their gradient."
   ]
  },
  {
   "cell_type": "markdown",
   "id": "0804ecc1",
   "metadata": {},
   "source": [
    "#### 2. In the CNN architecture, where does the DROPOUT LAYER go ? "
   ]
  },
  {
   "cell_type": "markdown",
   "id": "4cf0d24c",
   "metadata": {},
   "source": [
    "Dropout can be applied to hidden neurons in the body of your network model. In the example below, Dropout is applied between the two hidden layers and between the last hidden layer and the output layer."
   ]
  },
  {
   "cell_type": "markdown",
   "id": "a300559d",
   "metadata": {},
   "source": [
    "#### 3. What is the optimal number of hidden layers to stack ?"
   ]
  },
  {
   "cell_type": "markdown",
   "id": "996d1b41",
   "metadata": {},
   "source": [
    "Large no. of layer with less neurons."
   ]
  },
  {
   "cell_type": "markdown",
   "id": "4246d2fe",
   "metadata": {},
   "source": [
    "#### 4. In each layer, how many secret units or filters should there be ?"
   ]
  },
  {
   "cell_type": "markdown",
   "id": "5d6156e7",
   "metadata": {},
   "source": [
    "32 to 512"
   ]
  },
  {
   "cell_type": "markdown",
   "id": "76b8aa18",
   "metadata": {},
   "source": [
    "#### 5. What should your initial learning rate be ?"
   ]
  },
  {
   "cell_type": "markdown",
   "id": "0af24605",
   "metadata": {},
   "source": [
    "0.1 or 0.01. we can use learning rate scheduler."
   ]
  },
  {
   "cell_type": "markdown",
   "id": "4bf4effd",
   "metadata": {},
   "source": [
    "#### 6. What do you do with the activation function ?"
   ]
  },
  {
   "cell_type": "markdown",
   "id": "601d1d4a",
   "metadata": {},
   "source": [
    "summition or decide output of input."
   ]
  },
  {
   "cell_type": "markdown",
   "id": "2fac40b1",
   "metadata": {},
   "source": [
    "#### 7. What is NORMALIZATION OF DATA ?"
   ]
  },
  {
   "cell_type": "markdown",
   "id": "00c0eb7e",
   "metadata": {},
   "source": [
    "Scaling the data for fast training."
   ]
  },
  {
   "cell_type": "markdown",
   "id": "36e94190",
   "metadata": {},
   "source": [
    "#### 8. What is IMAGE AUGMENTATION and how does it work ?"
   ]
  },
  {
   "cell_type": "markdown",
   "id": "3ebbedc5",
   "metadata": {},
   "source": [
    "Image augmentation artificially creates training images through different ways of processing or combination of multiple processing, such as random rotation, shifts, shear and flips, etc."
   ]
  },
  {
   "cell_type": "markdown",
   "id": "84baff66",
   "metadata": {},
   "source": [
    "#### 9. What is DECLINE IN LEARNING RATE ?"
   ]
  },
  {
   "cell_type": "markdown",
   "id": "4c4c0952",
   "metadata": {},
   "source": [
    "The learning rate that leads to the greatest gradient decline is a suitable learning rate."
   ]
  },
  {
   "cell_type": "markdown",
   "id": "dff43a28",
   "metadata": {},
   "source": [
    "#### 10. What does EARLY STOPPING CRITERIA mean ?"
   ]
  },
  {
   "cell_type": "markdown",
   "id": "d2a618fa",
   "metadata": {},
   "source": [
    "save high accuracy or lor testing loss mode and stop training."
   ]
  },
  {
   "cell_type": "code",
   "execution_count": null,
   "id": "eb4090de",
   "metadata": {},
   "outputs": [],
   "source": []
  }
 ],
 "metadata": {
  "kernelspec": {
   "display_name": "Python 3 (ipykernel)",
   "language": "python",
   "name": "python3"
  },
  "language_info": {
   "codemirror_mode": {
    "name": "ipython",
    "version": 3
   },
   "file_extension": ".py",
   "mimetype": "text/x-python",
   "name": "python",
   "nbconvert_exporter": "python",
   "pygments_lexer": "ipython3",
   "version": "3.9.13"
  }
 },
 "nbformat": 4,
 "nbformat_minor": 5
}
