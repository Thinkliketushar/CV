{
 "cells": [
  {
   "cell_type": "markdown",
   "id": "3313438b",
   "metadata": {},
   "source": [
    "# 1. After each stride-2 conv, why do we double the number of filters?\n",
    " because we’re decreasing the number of activations in the activation map by a factor of 4; we don’t want to decrease the capacity of a layer by too much at a time.”"
   ]
  },
  {
   "cell_type": "markdown",
   "id": "d934fce1",
   "metadata": {},
   "source": [
    "# 2. Why do we use a larger kernel with MNIST (with simple cnn) in the first conv?\n",
    "i don't think so, we can use small kernal. If we use larger keranl in mnist then its good for edges detection."
   ]
  },
  {
   "cell_type": "markdown",
   "id": "f1c8b6d3",
   "metadata": {},
   "source": [
    "# 3. What data is saved by ActivationStats for each layer?\n",
    "weight and bias data"
   ]
  },
  {
   "cell_type": "markdown",
   "id": "bb310a2b",
   "metadata": {},
   "source": [
    "# 4. How do we get a learner&#39;s callback after they&#39;ve completed training?\n",
    "my_callbacks = [\n",
    "    tf.keras.callbacks.EarlyStopping(patience=2),\n",
    "    tf.keras.callbacks.ModelCheckpoint(filepath='model.{epoch:02d}-{val_loss:.2f}.h5'),\n",
    "    tf.keras.callbacks.TensorBoard(log_dir='./logs'),\n",
    "]\n",
    "model.fit(dataset, epochs=10, callbacks=my_callbacks)"
   ]
  },
  {
   "cell_type": "markdown",
   "id": "bfb77b8a",
   "metadata": {},
   "source": [
    "# 5. What are the drawbacks of activations above zero?\n",
    "- non zero centered"
   ]
  },
  {
   "cell_type": "markdown",
   "id": "77aeb97c",
   "metadata": {},
   "source": [
    "# 6.Draw up the benefits and drawbacks of practicing in larger batches?\n",
    "large batches got fast training but less generalize."
   ]
  },
  {
   "cell_type": "markdown",
   "id": "6343e62b",
   "metadata": {},
   "source": [
    "# 7. Why should we avoid starting training with a high learning rate?\n",
    "- overshooting the minima\n",
    "- convergence problem"
   ]
  },
  {
   "cell_type": "markdown",
   "id": "0d48af1e",
   "metadata": {},
   "source": [
    "# 8. What are the pros of studying with a high rate of learning?\n",
    "model to converge too quickly to a suboptimal solution"
   ]
  },
  {
   "cell_type": "markdown",
   "id": "ac7e49b8",
   "metadata": {},
   "source": [
    "# 9. Why do we want to end the training with a low learning rate?\n",
    "\n"
   ]
  }
 ],
 "metadata": {
  "kernelspec": {
   "display_name": "Python 3 (ipykernel)",
   "language": "python",
   "name": "python3"
  },
  "language_info": {
   "codemirror_mode": {
    "name": "ipython",
    "version": 3
   },
   "file_extension": ".py",
   "mimetype": "text/x-python",
   "name": "python",
   "nbconvert_exporter": "python",
   "pygments_lexer": "ipython3",
   "version": "3.9.12"
  }
 },
 "nbformat": 4,
 "nbformat_minor": 5
}
