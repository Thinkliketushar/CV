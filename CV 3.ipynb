{
 "cells": [
  {
   "cell_type": "markdown",
   "id": "7398df83",
   "metadata": {},
   "source": [
    "# 1. After each stride-2 conv, why do we double the number of filters?\n",
    " because we’re decreasing the number of activations in the activation map by a factor of 4; we don’t want to decrease the capacity of a layer by too much at a time.”"
   ]
  },
  {
   "cell_type": "markdown",
   "id": "07f09a2b",
   "metadata": {},
   "source": [
    "# 2. Why do we use a larger kernel with MNIST (with simple cnn) in the first conv?\n",
    "i don't think so, we can use small kernal. If we use larger keranl in mnist then its good for edges detection."
   ]
  },
  {
   "cell_type": "markdown",
   "id": "1f6606b7",
   "metadata": {},
   "source": [
    "# 3. What data is saved by ActivationStats for each layer?\n",
    "weight and bias data"
   ]
  },
  {
   "cell_type": "markdown",
   "id": "499399e9",
   "metadata": {},
   "source": [
    "# 4. How do we get a learner&#39;s callback after they&#39;ve completed training?\n",
    "my_callbacks = [\n",
    "    tf.keras.callbacks.EarlyStopping(patience=2),\n",
    "    tf.keras.callbacks.ModelCheckpoint(filepath='model.{epoch:02d}-{val_loss:.2f}.h5'),\n",
    "    tf.keras.callbacks.TensorBoard(log_dir='./logs'),\n",
    "]\n",
    "model.fit(dataset, epochs=10, callbacks=my_callbacks)"
   ]
  },
  {
   "cell_type": "markdown",
   "id": "3e4e9a68",
   "metadata": {},
   "source": [
    "# 5. What are the drawbacks of activations above zero?\n",
    "- non zero centered"
   ]
  },
  {
   "cell_type": "markdown",
   "id": "071c8adf",
   "metadata": {},
   "source": [
    "# 6.Draw up the benefits and drawbacks of practicing in larger batches?\n",
    "large batches got fast training but less generalize."
   ]
  },
  {
   "cell_type": "markdown",
   "id": "d1cec8e2",
   "metadata": {},
   "source": [
    "# 7. Why should we avoid starting training with a high learning rate?\n",
    "- overshooting the minima\n",
    "- convergence problem"
   ]
  },
  {
   "cell_type": "markdown",
   "id": "aa67bf82",
   "metadata": {},
   "source": [
    "# 8. What are the pros of studying with a high rate of learning?\n",
    "model to converge too quickly to a suboptimal solution"
   ]
  },
  {
   "cell_type": "markdown",
   "id": "94b61a0c",
   "metadata": {},
   "source": [
    "# 9. Why do we want to end the training with a low learning rate?\n",
    "more optimal or even globally optimal set of weights"
   ]
  },
  {
   "cell_type": "code",
   "execution_count": null,
   "id": "d5846ba7",
   "metadata": {},
   "outputs": [],
   "source": []
  }
 ],
 "metadata": {
  "kernelspec": {
   "display_name": "Python 3 (ipykernel)",
   "language": "python",
   "name": "python3"
  },
  "language_info": {
   "codemirror_mode": {
    "name": "ipython",
    "version": 3
   },
   "file_extension": ".py",
   "mimetype": "text/x-python",
   "name": "python",
   "nbconvert_exporter": "python",
   "pygments_lexer": "ipython3",
   "version": "3.9.12"
  }
 },
 "nbformat": 4,
 "nbformat_minor": 5
}
