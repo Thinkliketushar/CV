{
 "cells": [
  {
   "cell_type": "markdown",
   "id": "3fb1aede",
   "metadata": {},
   "source": [
    "# 1. What exactly is a feature?\n",
    "In cnn, matrix of input image or value of column."
   ]
  },
  {
   "cell_type": "markdown",
   "id": "1b9c7d97",
   "metadata": {},
   "source": [
    "# 2. For a top edge detector, write out the convolutional kernel matrix."
   ]
  },
  {
   "cell_type": "code",
   "execution_count": 5,
   "id": "74be111c",
   "metadata": {},
   "outputs": [
    {
     "data": {
      "text/plain": [
       "[1, 1, 1]"
      ]
     },
     "execution_count": 5,
     "metadata": {},
     "output_type": "execute_result"
    }
   ],
   "source": [
    "[-1,-1,-1]\n",
    "[0,0,0]\n",
    "[1,1,1]"
   ]
  },
  {
   "cell_type": "markdown",
   "id": "90944503",
   "metadata": {},
   "source": [
    "# 3. Describe the mathematical operation that a 3x3 kernel performs on a single pixel in an image.\n",
    "\n",
    "let image size is 6x6 with 3x3 filter apply on it and feature map size will be 4x4. We use itemwise multiplication of filter to pixel of image and move on."
   ]
  },
  {
   "cell_type": "markdown",
   "id": "4685f143",
   "metadata": {},
   "source": [
    "# 4. What is the significance of a convolutional kernel added to a 3x3 matrix of zeroes?\n",
    "when the convolution kernal or filter with diffrent size is added to 3x3 matrix of zeros then all the values become zero."
   ]
  },
  {
   "cell_type": "markdown",
   "id": "5010607d",
   "metadata": {},
   "source": [
    "# 5. What exactly is padding?\n",
    "With padding we add the outside bounday with zero number. using this we can get the same size of image after apply diffrent fiters else we got diffrent size and that size calculated by a formula n-p-1\n",
    "- add rows and columns to get a desired output size"
   ]
  },
  {
   "cell_type": "markdown",
   "id": "7e7dbf83",
   "metadata": {},
   "source": [
    "# 6. What is the concept of stride?\n",
    "reduce size by a large factor, we set the stride when the filter is multiplication by image. The stride is useful to find the major and minor feature. "
   ]
  },
  {
   "cell_type": "markdown",
   "id": "896504c9",
   "metadata": {},
   "source": [
    "# 7. What are the shapes of PyTorch' 2D convolution's input and weight parameters?\n",
    "2d"
   ]
  },
  {
   "cell_type": "markdown",
   "id": "31b6b5a2",
   "metadata": {},
   "source": [
    "# 8. What exactly is a channel?\n",
    "Just like any other layer, a convolutional layer receives input, transforms the input in some way, and then outputs the transformed input to the next layer. The inputs to convolutional layers are called input channels, and the outputs are called output channels."
   ]
  },
  {
   "cell_type": "markdown",
   "id": "f283d2bc",
   "metadata": {},
   "source": [
    "# 9.Explain relationship between matrix multiplication and a convolution?\n",
    "In mathametic we can call as two matrix will be convolution but in cnn we can two matrix is convolution."
   ]
  },
  {
   "cell_type": "code",
   "execution_count": null,
   "id": "6b6ad246",
   "metadata": {},
   "outputs": [],
   "source": []
  }
 ],
 "metadata": {
  "kernelspec": {
   "display_name": "Python 3 (ipykernel)",
   "language": "python",
   "name": "python3"
  },
  "language_info": {
   "codemirror_mode": {
    "name": "ipython",
    "version": 3
   },
   "file_extension": ".py",
   "mimetype": "text/x-python",
   "name": "python",
   "nbconvert_exporter": "python",
   "pygments_lexer": "ipython3",
   "version": "3.9.12"
  }
 },
 "nbformat": 4,
 "nbformat_minor": 5
}
