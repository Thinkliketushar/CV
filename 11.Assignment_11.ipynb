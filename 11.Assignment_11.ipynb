{
 "cells": [
  {
   "cell_type": "markdown",
   "id": "64c8d613",
   "metadata": {},
   "source": [
    "# What do REGION PROPOSALS entail?"
   ]
  },
  {
   "cell_type": "markdown",
   "id": "1726fbff",
   "metadata": {},
   "source": [
    "A Region Proposal Network, or RPN, is a fully convolutional network that simultaneously predicts object bounds and objectness scores at each position. The RPN is trained end-to-end to generate high-quality region proposals."
   ]
  },
  {
   "cell_type": "markdown",
   "id": "8cdfd48d",
   "metadata": {},
   "source": [
    "# What do you mean by NON-MAXIMUM SUPPRESSION? (NMS)"
   ]
  },
  {
   "cell_type": "markdown",
   "id": "96513bde",
   "metadata": {},
   "source": [
    "Non Maximum Suppression is a computer vision method that selects a single entity out of many overlapping entities (for example bounding boxes in object detection). The criteria is usually discarding entities that are below a given probability bound."
   ]
  },
  {
   "cell_type": "markdown",
   "id": "56f0aab3",
   "metadata": {},
   "source": [
    "# What exactly is mAP?"
   ]
  },
  {
   "cell_type": "markdown",
   "id": "81098733",
   "metadata": {},
   "source": [
    "he feature maps of a CNN capture the result of applying the filters to an input image. I.e at each layer, the feature map is the output of that layer. The reason for visualising a feature map for a specific input image is to try to gain some understanding of what features our CNN detects."
   ]
  },
  {
   "cell_type": "markdown",
   "id": "504a1c2e",
   "metadata": {},
   "source": [
    "# What is a frames per second (FPS)?"
   ]
  },
  {
   "cell_type": "markdown",
   "id": "989df91a",
   "metadata": {},
   "source": [
    "Frame rate (expressed in frames per second or FPS) is the frequency (rate) at which consecutive images (frames) are captured or displayed. The term applies equally to film and video cameras, computer graphics, and motion capture systems."
   ]
  },
  {
   "cell_type": "markdown",
   "id": "2c75fbe2",
   "metadata": {},
   "source": [
    "# What is an IOU (INTERSECTION OVER UNION)?"
   ]
  },
  {
   "cell_type": "markdown",
   "id": "bd2fe5d2",
   "metadata": {},
   "source": [
    "IOU(Intersection over Union) is a term used to describe the extent of overlap of two boxes."
   ]
  },
  {
   "cell_type": "markdown",
   "id": "8607bdff",
   "metadata": {},
   "source": [
    "# Describe the PRECISION-RECALL CURVE (PR CURVE)"
   ]
  },
  {
   "cell_type": "markdown",
   "id": "d0ab85b8",
   "metadata": {},
   "source": [
    "A PR curve is simply a graph with Precision values on the y-axis and Recall values on the x-axis. In other words, the PR curve contains TP/(TP+FN) on the y-axis and TP/(TP+FP) on the x-axis. It is important to note that Precision is also called the Positive Predictive Value (PPV)."
   ]
  },
  {
   "cell_type": "markdown",
   "id": "b6f80ee4",
   "metadata": {},
   "source": [
    "# What is the term &quot;selective search&quot;?"
   ]
  },
  {
   "cell_type": "markdown",
   "id": "cadc94e5",
   "metadata": {},
   "source": [
    "Selective Search is a region proposal algorithm for object detection tasks. It starts by over-segmenting the image based on intensity of the pixels."
   ]
  },
  {
   "cell_type": "markdown",
   "id": "48a5f1fe",
   "metadata": {},
   "source": [
    "# Describe the R-CNN model&#39;s four components."
   ]
  },
  {
   "cell_type": "markdown",
   "id": "365d414a",
   "metadata": {},
   "source": [
    "    Pass the image through selective search and generate region proposal.\n",
    "    Calculate IOU (intersection over union) on proposed region with ground truth data and add label to the proposed regions.\n",
    "    Do transfer learning using the proposed regions with the labels.\n",
    "    Pass the test image to selective search and then pass the first 2000 proposed regions from the trained model and predict the class of those regions."
   ]
  },
  {
   "cell_type": "markdown",
   "id": "cbcae1d4",
   "metadata": {},
   "source": [
    "# What exactly is the Localization Module?"
   ]
  },
  {
   "cell_type": "markdown",
   "id": "8e59d221",
   "metadata": {},
   "source": [
    "Image localization is a spin-off of regular CNN vision algorithms. These algorithms predict classes with discrete numbers. In object localization, the algorithm predicts a set of 4 continuous numbers, namely, x coordinate, y coordinate, height, and width, to draw a bounding box around an object of interest."
   ]
  },
  {
   "cell_type": "markdown",
   "id": "97bfc106",
   "metadata": {},
   "source": [
    "# What are the R-CNN DISADVANTAGES?"
   ]
  },
  {
   "cell_type": "markdown",
   "id": "d1578d25",
   "metadata": {},
   "source": [
    "The R-CNN model has some drawbacks:\n",
    "\n",
    "    It is a multi-stage model, where each stage is an independent component. Thus, it cannot be trained end-to-end.\n",
    "    It caches the extracted features from the pre-trained CNN on the disk to later train the SVMs. This requires hundreds of gigabytes of storage.\n",
    "    R-CNN depends on the Selective Search algorithm for generating region proposals, which takes a lot of time. Moreover, this algorithm cannot be customized to the detection problem.\n",
    "    Each region proposal is fed independently to the CNN for feature extraction. This makes it impossible to run R-CNN in real-time."
   ]
  },
  {
   "cell_type": "code",
   "execution_count": null,
   "id": "b538d5e3",
   "metadata": {},
   "outputs": [],
   "source": []
  }
 ],
 "metadata": {
  "kernelspec": {
   "display_name": "Python 3 (ipykernel)",
   "language": "python",
   "name": "python3"
  },
  "language_info": {
   "codemirror_mode": {
    "name": "ipython",
    "version": 3
   },
   "file_extension": ".py",
   "mimetype": "text/x-python",
   "name": "python",
   "nbconvert_exporter": "python",
   "pygments_lexer": "ipython3",
   "version": "3.9.13"
  }
 },
 "nbformat": 4,
 "nbformat_minor": 5
}
